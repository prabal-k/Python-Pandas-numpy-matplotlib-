{
 "cells": [
  {
   "cell_type": "markdown",
   "id": "675c0f47",
   "metadata": {},
   "source": [
    "# Types of functions "
   ]
  },
  {
   "cell_type": "code",
   "execution_count": 1,
   "id": "ab5b3d10",
   "metadata": {},
   "outputs": [],
   "source": [
    "# Seaborn has 2 level of functions (i.e figure level and axes level function) to draw each plot"
   ]
  },
  {
   "cell_type": "markdown",
   "id": "d6f3dd2e",
   "metadata": {},
   "source": [
    "# Axes-level function:"
   ]
  },
  {
   "cell_type": "code",
   "execution_count": 2,
   "id": "67517ea2",
   "metadata": {},
   "outputs": [],
   "source": [
    "# 1.Axes-level functions operate at a lower level, creating individual plots (axes) within a larger figure.\n",
    "# 2.These functions typically return a single plot (or subplot) and require an existing matplotlib Axes object to plot onto.\n",
    "# 3.Examples of axes-level functions in Seaborn include sns.scatterplot(), sns.barplot(), sns.boxplot(), etc.\n",
    "# 4.These functions are suitable when you need to create and customize individual plots separately."
   ]
  },
  {
   "cell_type": "markdown",
   "id": "4331b1d0",
   "metadata": {},
   "source": [
    "# Figure-level functions:"
   ]
  },
  {
   "cell_type": "code",
   "execution_count": 3,
   "id": "be3601dd",
   "metadata": {},
   "outputs": [],
   "source": [
    "# 1.Figure-level functions operate at a higher level, creating entire figures with multiple subplots automatically.\n",
    "# 2.These functions typically create complex visualizations that involve multiple plots or facets (subplots).\n",
    "# 3.Examples of figure-level functions in Seaborn include sns.relplot(), sns.catplot(), sns.pairplot(), etc.\n",
    "# 4.Figure-level functions are more convenient for creating complex visualizations quickly, as they handle the creation \n",
    "#     and organization of subplots automatically."
   ]
  },
  {
   "cell_type": "markdown",
   "id": "7023719f",
   "metadata": {},
   "source": [
    "# classification of plots"
   ]
  },
  {
   "cell_type": "code",
   "execution_count": 4,
   "id": "e15d1e3b",
   "metadata": {},
   "outputs": [],
   "source": [
    "#     1. Relational Plots: These plots are used to visualize the relationship between variables. (numerical columns)\n",
    "#         Examples include scatter plots (scatterplot()), line plots (lineplot()), and joint plots (jointplot()).\n",
    "\n",
    "#     2. Categorical Plots: These plots are used to visualize the distribution of categorical variables or the relationship\n",
    "#         between categorical and numerical variables. Examples include bar plots (barplot()), count plots (countplot()), \n",
    "#         box plots (boxplot()),violin plot.\n",
    "\n",
    "#     3. Distribution Plots: These plots are used to visualize the distribution of univariate or bivariate data.\n",
    "#         Examples include histogram (histplot()), kernel density estimation (kdeplot()), and rug plot (rugplot()).\n",
    "\n",
    "#     4. Regression Plots: These plots are used to visualize linear relationships between variables. Examples include\n",
    "#         i)regplot (axes level)            ii)lmplot(figure level)\n",
    "\n",
    "#     5. Matrix Plots: These plots are used to visualize matrices or 2D data. Examples include heatmap (heatmap()), \n",
    "#         clustermap (clustermap()), and pairplot (pairplot()).\n",
    "\n",
    "#     6. Multi-plot Grids: These functions allow you to create multiple plots in a grid arrangement. Examples include\n",
    "#         FacetGrid (FacetGrid()), PairGrid (PairGrid()), and JointGrid (JointGrid()).\n",
    "\n",
    "#      may be derpeciated but not sure:\n",
    "#     7. Timeseries Plots: These functions are specifically tailored for visualizing timeseries data. Examples include \n",
    "#         tsplot() and lineplot()."
   ]
  },
  {
   "cell_type": "markdown",
   "id": "82f6a967",
   "metadata": {},
   "source": [
    "# Seaborn library Data set Documentation:"
   ]
  },
  {
   "cell_type": "code",
   "execution_count": 5,
   "id": "aa53fc1a",
   "metadata": {},
   "outputs": [],
   "source": [
    "# https://seaborn.pydata.org/api.html"
   ]
  },
  {
   "cell_type": "markdown",
   "id": "05d97f4c",
   "metadata": {},
   "source": [
    "### Utility Functions -> To see the builtint available datasets in seaborn"
   ]
  },
  {
   "cell_type": "code",
   "execution_count": 6,
   "id": "593d2164",
   "metadata": {},
   "outputs": [
    {
     "ename": "NameError",
     "evalue": "name 'sns' is not defined",
     "output_type": "error",
     "traceback": [
      "\u001b[1;31m---------------------------------------------------------------------------\u001b[0m",
      "\u001b[1;31mNameError\u001b[0m                                 Traceback (most recent call last)",
      "Cell \u001b[1;32mIn[6], line 1\u001b[0m\n\u001b[1;32m----> 1\u001b[0m sns\u001b[38;5;241m.\u001b[39mget_dataset_names()\n",
      "\u001b[1;31mNameError\u001b[0m: name 'sns' is not defined"
     ]
    }
   ],
   "source": [
    "sns.get_dataset_names()\n",
    "\n",
    "# and to load the dataset the utility function is: sns.loaddataset('name_of_dataset')"
   ]
  },
  {
   "cell_type": "markdown",
   "id": "c4d59cea",
   "metadata": {},
   "source": [
    "# Univariate and Bivariate Analysis"
   ]
  },
  {
   "cell_type": "code",
   "execution_count": null,
   "id": "25b2303b",
   "metadata": {},
   "outputs": [],
   "source": [
    "# Univariate analysis focuses on analyzing a single variable at a time.It involves examining the distribution and\n",
    "# properties of that variable independently.\n",
    "\n",
    "# Bivariate analysis involves the simultaneous analysis of two variables to determine the relationship between them.\n",
    "# It helps in understanding how one variable changes concerning the other.\n",
    "# Bivariate analysis can reveal associations, correlations, or dependencies between the two variables."
   ]
  },
  {
   "cell_type": "code",
   "execution_count": null,
   "id": "d9cc819f",
   "metadata": {},
   "outputs": [],
   "source": [
    "import seaborn as sns\n",
    "import pandas as pd\n",
    "import numpy as np\n",
    "import matplotlib.pyplot as plt\n",
    "%matplotlib inline\n",
    "import plotly.express as px                     #Library to load data-sets"
   ]
  },
  {
   "cell_type": "code",
   "execution_count": null,
   "id": "b7ef6cf8",
   "metadata": {},
   "outputs": [],
   "source": [
    "tips = sns.load_dataset('tips')"
   ]
  },
  {
   "cell_type": "code",
   "execution_count": null,
   "id": "417d95d6",
   "metadata": {},
   "outputs": [],
   "source": [
    "tips.head()"
   ]
  },
  {
   "cell_type": "markdown",
   "id": "54abd5fe",
   "metadata": {},
   "source": [
    "# 1.Relational Plot\n",
    "### .) to see the statistical relation between 2 or more variables.\n",
    "### .) Bivariate Analysis"
   ]
  },
  {
   "cell_type": "markdown",
   "id": "ea42b2e1",
   "metadata": {},
   "source": [
    "# a) Scatter plot\n",
    "### scatter plots are primarily used for visualizing the relationship between two numerical variables (columns)\n",
    "### They help in identifying patterns, clusters, trends, correlations, or outliers in the data."
   ]
  },
  {
   "cell_type": "code",
   "execution_count": null,
   "id": "f1df3850",
   "metadata": {},
   "outputs": [],
   "source": [
    "# Axes level function\n",
    "sns.scatterplot(data=tips,x='total_bill',y='tip',hue='sex',size='sex',style='sex')\n",
    "\n",
    "## hue for different colors(hue is used fo categorical columns) , style = for different visuals and size = for difference in size"
   ]
  },
  {
   "cell_type": "code",
   "execution_count": null,
   "id": "39e6f56c",
   "metadata": {},
   "outputs": [],
   "source": [
    "# Figure level function\n",
    "sns.relplot(data=tips,x='total_bill',y='tip',kind='scatter',style='sex',hue='sex',size = 'time')"
   ]
  },
  {
   "cell_type": "markdown",
   "id": "810ffdca",
   "metadata": {},
   "source": [
    "# b) Line Plot\n",
    "\n",
    "### line plots are used for showing trends or changes in data over an ordered dimension, such as time.\n",
    "###  Line plots are particularly useful for visualizing trends or changes in data over time or any other ordered dimension. They are commonly used in time series analysis to track changes in variables over successive time periods."
   ]
  },
  {
   "cell_type": "code",
   "execution_count": null,
   "id": "4c178255",
   "metadata": {},
   "outputs": [],
   "source": [
    "gap = px.data.gapminder()\n",
    "gap"
   ]
  },
  {
   "cell_type": "code",
   "execution_count": null,
   "id": "3018a158",
   "metadata": {},
   "outputs": [],
   "source": [
    "sns.relplot(data=gap,x='year',y='lifeExp',kind='line',hue='continent',ci=None)"
   ]
  },
  {
   "cell_type": "code",
   "execution_count": null,
   "id": "91086197",
   "metadata": {},
   "outputs": [],
   "source": [
    "#To draw line plot for india \n",
    "ind=gap[gap['country']=='India']\n",
    "sns.relplot(data=ind,x='year',y='lifeExp',kind='line')"
   ]
  },
  {
   "cell_type": "code",
   "execution_count": null,
   "id": "6c44c86a",
   "metadata": {},
   "outputs": [],
   "source": [
    "# countries_df = gap[(gap['country']==\"India\") | (gap['country']=='Pakistan') | (gap['country']=='China')]\n",
    "countries_df = gap[gap['country'].isin(['India','Brazil','Germany'])]\n",
    "countries_df"
   ]
  },
  {
   "cell_type": "code",
   "execution_count": null,
   "id": "ff820c71",
   "metadata": {},
   "outputs": [],
   "source": [
    "sns.relplot(data=countries_df,x='year',y='lifeExp',kind='line',hue='country',style='continent')"
   ]
  },
  {
   "cell_type": "markdown",
   "id": "b890dfd0",
   "metadata": {},
   "source": [
    "# Facet plot(faceting using col and row) -> only works with figure level function \n",
    " #### A facet plot, often referred to as a faceted plot or a small multiples plot, is a visualization technique used to create multiple plots, each representing a subset of the data, arranged in a grid-like layout.\n",
    "\n",
    "#### Each subplot typically represents a subset of the data based on one or more categorical variables. For example, if you have a dataset with a categorical variable like \"species\" and a continuous variable like \"sepal length,\" you might create a facet plot with separate subplots for each species, where each subplot shows the distribution of sepal lengths for that species."
   ]
  },
  {
   "cell_type": "code",
   "execution_count": null,
   "id": "aa228c5e",
   "metadata": {
    "scrolled": false
   },
   "outputs": [],
   "source": [
    "sns.relplot(data=tips,x='total_bill',y='tip',kind='scatter',row='day',col='sex',hue='sex')"
   ]
  },
  {
   "cell_type": "code",
   "execution_count": null,
   "id": "3952fce2",
   "metadata": {},
   "outputs": [],
   "source": [
    "# col wrap-> In a row put only (col_wrap=3) 3 column ...Aru column aurko row ma"
   ]
  },
  {
   "cell_type": "code",
   "execution_count": null,
   "id": "bd8d49cd",
   "metadata": {
    "scrolled": false
   },
   "outputs": [],
   "source": [
    "sns.relplot(data=gap,x='lifeExp',y='gdpPercap',kind='scatter',col='year',col_wrap=3)"
   ]
  },
  {
   "cell_type": "markdown",
   "id": "b115c6dd",
   "metadata": {},
   "source": [
    "# 2) Distribution Plots\n",
    "### used of univariate analysis\n",
    "### used to find out the distribution\n",
    "### Range of the observation\n",
    "### central tendency\n",
    "### is the data bimodal ?\n",
    "### Are there outliers ?"
   ]
  },
  {
   "cell_type": "markdown",
   "id": "9c26001a",
   "metadata": {},
   "source": [
    "# a) Histogram (histplot)"
   ]
  },
  {
   "cell_type": "code",
   "execution_count": null,
   "id": "01fd268d",
   "metadata": {},
   "outputs": [],
   "source": [
    "sns.displot(data=tips,x='total_bill',kind='hist')"
   ]
  },
  {
   "cell_type": "code",
   "execution_count": null,
   "id": "a0cfe9cf",
   "metadata": {},
   "outputs": [],
   "source": [
    "titanic_df = sns.load_dataset('titanic')\n",
    "titanic_df"
   ]
  },
  {
   "cell_type": "code",
   "execution_count": null,
   "id": "732b3a2a",
   "metadata": {},
   "outputs": [],
   "source": [
    "#Faceting using col and row\n",
    "sns.displot(data=titanic_df,x='age',kind='hist',edgecolor='white',color='red',kde=True,col='sex')"
   ]
  },
  {
   "cell_type": "markdown",
   "id": "cf36a80a",
   "metadata": {},
   "source": [
    "# b) Kernal density estimation (kde) Plot\n",
    "\n",
    "### Kde is smothen histplot"
   ]
  },
  {
   "cell_type": "code",
   "execution_count": null,
   "id": "a32d00ee",
   "metadata": {},
   "outputs": [],
   "source": [
    "tips"
   ]
  },
  {
   "cell_type": "code",
   "execution_count": null,
   "id": "0e2d98fd",
   "metadata": {},
   "outputs": [],
   "source": [
    "sns.displot(data=tips,x='total_bill',kind='kde',hue='sex',fill=True,aspect=2)\n",
    "# Here kde gives the density of probability(not exactly but roughly) in y axis (for eg the chances of being total_bill 20 \n",
    "# is 0.05*100 = 5%)"
   ]
  },
  {
   "cell_type": "code",
   "execution_count": null,
   "id": "b1be2955",
   "metadata": {},
   "outputs": [],
   "source": [
    "sns.displot(data=titanic_df,x='age',kind='hist',edgecolor='white',color='red',kde=True)"
   ]
  },
  {
   "cell_type": "markdown",
   "id": "4ec1867c",
   "metadata": {},
   "source": [
    "# c) Rug Plot\n",
    "\n",
    "### This plot isnot generally used alone,its used with other plots to support them ."
   ]
  },
  {
   "cell_type": "code",
   "execution_count": null,
   "id": "5f6a4f14",
   "metadata": {},
   "outputs": [],
   "source": [
    "sns.displot(data=tips,x='total_bill',kind='kde',fill=True,rug=True)\n"
   ]
  },
  {
   "cell_type": "code",
   "execution_count": null,
   "id": "c2ae233c",
   "metadata": {},
   "outputs": [],
   "source": [
    "# Rug plot with scatter plot\n",
    "sns.relplot(data=tips,x='total_bill',y='tip',kind='scatter',hue='sex')\n",
    "sns.rugplot(data=tips,x='total_bill',y='tip',hue='sex')"
   ]
  },
  {
   "cell_type": "markdown",
   "id": "e628d205",
   "metadata": {},
   "source": [
    "# 3) Matrix plot"
   ]
  },
  {
   "cell_type": "markdown",
   "id": "c14450cc",
   "metadata": {},
   "source": [
    "# a)Heat map \n",
    "### heatmap is only a axes level function .SO there is no any figure level function.\n",
    "\n",
    "#### A heatmap plot is a graphical representation of data where values in a matrix are represented as colors. Heatmaps are particularly useful for visualizing the magnitude of relationships between two categorical variables or two numerical variables by assigning colors to different values.\n"
   ]
  },
  {
   "cell_type": "code",
   "execution_count": null,
   "id": "64c426c4",
   "metadata": {},
   "outputs": [],
   "source": [
    "temp=gap.pivot(index='country',columns='year',values='lifeExp')\n",
    "temp\n"
   ]
  },
  {
   "cell_type": "code",
   "execution_count": null,
   "id": "785f04fd",
   "metadata": {},
   "outputs": [],
   "source": [
    "plt.figure(figsize=(15,10))\n",
    "sns.heatmap(temp)"
   ]
  },
  {
   "cell_type": "code",
   "execution_count": null,
   "id": "012d3ed1",
   "metadata": {},
   "outputs": [],
   "source": [
    "# Heat map of European countries life expentency in different years\n",
    "plt.figure(figsize=(15,10))\n",
    "europe_temp=gap[gap['continent']=='Europe'].pivot(columns=\"year\",index='country',values='lifeExp')\n",
    "sns.heatmap(europe_temp,annot=True,linewidths=0.2,cmap='viridis')\n",
    "\n",
    "## annot for showing numbers in cells\n",
    "## linewidth for gap between cells\n",
    "## cmap for colors(other options for cmap are ['summer','crest','viridis'])"
   ]
  },
  {
   "cell_type": "markdown",
   "id": "1ec0ef04",
   "metadata": {},
   "source": [
    "# b) Cluster map(\n",
    "\n",
    "### ->Similar to heat map\n",
    "### ->cluster map internally makes clustering on data(similar columns lai group and dissimilar lai seperate)\n",
    "### ->internally a machine learning algorithm hierarcharical algomorative clustering is applied to create a cluster of similar columns"
   ]
  },
  {
   "cell_type": "code",
   "execution_count": null,
   "id": "208c895e",
   "metadata": {},
   "outputs": [],
   "source": [
    "iris= sns.load_dataset('iris')\n",
    "iris"
   ]
  },
  {
   "cell_type": "code",
   "execution_count": null,
   "id": "f747c224",
   "metadata": {},
   "outputs": [],
   "source": [
    "sns.clustermap(iris.iloc[:,[0,1,2,3]])"
   ]
  },
  {
   "cell_type": "code",
   "execution_count": null,
   "id": "7d9890e2",
   "metadata": {},
   "outputs": [],
   "source": [
    "# corr()->used to calculate the correlation coefficient between two variables in a dataset. The correlation coefficient \n",
    "# measures the strength and direction of the linear relationship between two variables. It ranges from -1 to 1, where:\n",
    "\n",
    "# 1 indicates a perfect positive linear relationship.\n",
    "# -1 indicates a perfect negative linear relationship.\n",
    "# 0 indicates no linear relationship.\n",
    "selected=['sepal_length','sepal_width','petal_length']\n",
    "c=iris[selected]\n",
    "co = c.corr()\n",
    "sns.heatmap(co,annot=True)"
   ]
  },
  {
   "cell_type": "markdown",
   "id": "6bffba61",
   "metadata": {},
   "source": [
    "# Assignment/Task\n",
    "##### https://colab.research.google.com/drive/1ssQKshkqJvIKnphx0JQfClJqt_vS67rb?usp=sharing#scrollTo=2BLv8ixLiehx -->"
   ]
  },
  {
   "cell_type": "code",
   "execution_count": null,
   "id": "41e2f6fe",
   "metadata": {},
   "outputs": [],
   "source": [
    "df = pd.read_csv(r\"C:\\Users\\Prabal Kuinkel\\Desktop\\Data Analyst\\PYTHON JUPYTERNOOTBOOK\\Data sets and notes\\Data sets\\List of most-polluted cities by particulate matter concentration - List of most-polluted cities by particulate matter concentration(1).csv\")\n",
    "df.head()"
   ]
  },
  {
   "cell_type": "code",
   "execution_count": null,
   "id": "51c1d699",
   "metadata": {},
   "outputs": [],
   "source": [
    "# Problem-1: Draw a line plot of which, the x-axis is the \"Year\" and the y-axis is sum of \"PM2.5\" of two countries Iran \n",
    "#     and China."
   ]
  },
  {
   "cell_type": "code",
   "execution_count": null,
   "id": "8e52f18a",
   "metadata": {},
   "outputs": [],
   "source": [
    "t_df=df.query(\"(Country=='Iran') | (Country=='China')\").groupby([\"Country\",'Year']).agg({'PM2.5':'sum'})\n",
    "sns.relplot(kind='line',data=t_df,x='Year',y='PM2.5',hue='Country',aspect=2)"
   ]
  },
  {
   "cell_type": "code",
   "execution_count": null,
   "id": "e589399c",
   "metadata": {},
   "outputs": [],
   "source": [
    "# Problem-2: Draw a histogram of the column \"PM10\" of which the y-axis represents the probability \n",
    "#     (see the seaborn documentation how to draw the probability).\n",
    "sns.displot(data=df,x='PM10',stat='density',kind='hist')"
   ]
  },
  {
   "cell_type": "code",
   "execution_count": null,
   "id": "31f07d07",
   "metadata": {},
   "outputs": [],
   "source": [
    "# Problem-3: Draw a scatter plot where x-axis represents \"PM2.5\" and y-axis represents \"PM10\" for two countries Poland \n",
    "#         and Chile.\n",
    "\n",
    "t2_df=df[(df['Country']=='Poland' )| (df['Country']=='Chile')]\n",
    "sns.relplot(kind='scatter',data=t2_df,x='PM2.5',y='PM10',hue='Country')"
   ]
  },
  {
   "cell_type": "code",
   "execution_count": null,
   "id": "7d726772",
   "metadata": {},
   "outputs": [],
   "source": [
    "# Problem-4: Draw a pie chart of top 5 most frequent countries.\n",
    "t3_df=df['Country'].value_counts().head()\n",
    "plt.pie(x=t3_df, autopct='%.1f%%',labels=t3_df.index)"
   ]
  },
  {
   "cell_type": "code",
   "execution_count": null,
   "id": "630fe06d",
   "metadata": {},
   "outputs": [],
   "source": [
    "#Problem 6-10"
   ]
  },
  {
   "cell_type": "code",
   "execution_count": null,
   "id": "bc7d8e3e",
   "metadata": {},
   "outputs": [],
   "source": [
    "df1 = pd.read_csv('https://docs.google.com/spreadsheets/d/e/2PACX-1vTJh6X4_mqixWsfK9mgkllGQkKYW9Wj9kOIMGY2uYsWeS8n5np87DO-SDGQWJ1HXEnxiOVFVzYFYEcR/pub?gid=558678488&single=true&output=csv')\n",
    "df1\n"
   ]
  },
  {
   "cell_type": "code",
   "execution_count": null,
   "id": "c971273f",
   "metadata": {},
   "outputs": [],
   "source": [
    "# Problem-6\n",
    "\n",
    "# Show a line plot of Total Profit for each month with below styling.\n",
    "\n",
    "#     Dotted Line\n",
    "#     Line Color Blue\n",
    "#     Show Legend at top left\n",
    "#     Circle Marker\n"
   ]
  },
  {
   "cell_type": "code",
   "execution_count": null,
   "id": "2a09ea2a",
   "metadata": {},
   "outputs": [],
   "source": [
    "t_df=df1.groupby('month_number').agg({'total_profit':'sum'}).reset_index()"
   ]
  },
  {
   "cell_type": "code",
   "execution_count": null,
   "id": "6b18bfea",
   "metadata": {},
   "outputs": [],
   "source": [
    "sns.relplot(data=t_df,x='month_number',y='total_profit',kind='line',linestyle='dotted',marker='o')"
   ]
  },
  {
   "cell_type": "code",
   "execution_count": null,
   "id": "1d5e95f6",
   "metadata": {},
   "outputs": [],
   "source": [
    "# Problem-7\n",
    "\n",
    "# Show sales of each product in march month as pie chart.\n",
    "\n",
    "#     Show Percentage value\n",
    "#     Give Title \"Sales in March\"\n",
    "#     Explode ToothPaste with shadow\n",
    "df1"
   ]
  },
  {
   "cell_type": "code",
   "execution_count": null,
   "id": "5ec1c060",
   "metadata": {},
   "outputs": [],
   "source": [
    "df1.query('month_number==3').groupby(['facecream','facewash']).agg({'total_profit':'sum'}).reset_index()"
   ]
  },
  {
   "cell_type": "markdown",
   "id": "d373bb9f",
   "metadata": {},
   "source": [
    "# Assigm=nemnt/Task-2\n",
    "####### https://colab.research.google.com/drive/1uWh7VoNYpBDzkeOhOfWiDT_fvYGxHN8B?usp=sharing"
   ]
  },
  {
   "cell_type": "code",
   "execution_count": null,
   "id": "32ee90ef",
   "metadata": {},
   "outputs": [],
   "source": [
    "#  Using Gapminder Data\n",
    "\n",
    "#     Create a scatter plot of 'gdpPercap' against 'lifeExp' for the year 2007, with the size\n",
    "#     of the markers determined by 'pop' and the color determined by 'continent'.\n",
    "t=gap[gap['year']==2007]\n",
    "t"
   ]
  },
  {
   "cell_type": "code",
   "execution_count": null,
   "id": "5fef97cb",
   "metadata": {},
   "outputs": [],
   "source": [
    "gap.query('year==2007')"
   ]
  },
  {
   "cell_type": "code",
   "execution_count": null,
   "id": "3ffeae64",
   "metadata": {},
   "outputs": [],
   "source": [
    "sns.relplot(data=t,x=\"gdpPercap\",y='lifeExp',hue='continent')"
   ]
  },
  {
   "cell_type": "code",
   "execution_count": null,
   "id": "05b14cfb",
   "metadata": {},
   "outputs": [],
   "source": [
    "# problem:\n",
    "# Using flights dataset of seaborn.\n",
    "\n",
    "#     Using the \"flights\" dataset that comes with seaborn, create a heatmap that shows the average\n",
    "#     number of passengers per month for each year.\n",
    "plt.figure(figsize=(12,10))\n",
    "flights_df=sns.load_dataset('flights')\n",
    "t3=flights_df.groupby(['year','month']).agg({'passengers':'mean'}).reset_index()\n",
    "t4=t3.pivot(columns='month',index='year',values='passengers')\n",
    "sns.heatmap(data=t4,annot=True,fmt='.0F',linewidths=0.5)\n"
   ]
  },
  {
   "cell_type": "code",
   "execution_count": null,
   "id": "eee35ce5",
   "metadata": {},
   "outputs": [],
   "source": [
    "# Problem\n",
    "# Using the seaborn's flight dataset, create a clustermap to visualize the relationship between the number of passengers,\n",
    "# months, and year.\n",
    "sns.clustermap(data=t4)"
   ]
  },
  {
   "cell_type": "code",
   "execution_count": null,
   "id": "d85090b4",
   "metadata": {},
   "outputs": [],
   "source": [
    "insurance = pd.read_csv('https://docs.google.com/spreadsheets/d/e/2PACX-1vQVpcVtdYdZU4zU4-lqxt-iPHkyndDWs_aqEDUu9ZodlJ48Dku0PFgdXlj2N5RCmwXJrNtZLsI_wEVf/pub?gid=220677750&single=true&output=csv')\n",
    "insurance"
   ]
  },
  {
   "cell_type": "code",
   "execution_count": null,
   "id": "6bbe3cc7",
   "metadata": {},
   "outputs": [],
   "source": [
    "# Q-4: Draw a scatter plot based on the below conditions:\n",
    "\n",
    "#     x-axis should be \"age\" and y-axis should be \"bmi\".\n",
    "#     For hue, size and style parameters use \"diabetic\", \"gender\" and \"smoker\" column respectively.\n",
    "#     Add title to your chart.\n",
    "#     Age should be less than 70 percentiles.\n",
    "#     BMI should be greater than the average value of the filtered age dataset.\n",
    "\n",
    "insurance_temp=insurance[insurance[\"age\"]>=0]\n",
    "insurance_temp"
   ]
  },
  {
   "cell_type": "code",
   "execution_count": null,
   "id": "8cefab87",
   "metadata": {},
   "outputs": [],
   "source": [
    "percentile_70=np.percentile(insurance_temp['age'],70)\n",
    "percentile_70"
   ]
  },
  {
   "cell_type": "code",
   "execution_count": null,
   "id": "2764bfee",
   "metadata": {},
   "outputs": [],
   "source": []
  },
  {
   "cell_type": "code",
   "execution_count": null,
   "id": "63eb2941",
   "metadata": {},
   "outputs": [],
   "source": [
    "insurance_temp=insurance_temp[(insurance_temp['age']<percentile_70) | (insurance_temp['bmi']>insurance['bmi'].mean())]\n",
    "insurance_temp"
   ]
  },
  {
   "cell_type": "code",
   "execution_count": null,
   "id": "1a5156d7",
   "metadata": {},
   "outputs": [],
   "source": [
    "plt.figure(figsize=(10,10))\n",
    "sns.scatterplot(data=insurance,x='age',y='bmi',hue='diabetic',size='gender',style='smoker')\n"
   ]
  },
  {
   "cell_type": "code",
   "execution_count": null,
   "id": "82c4f6a9",
   "metadata": {},
   "outputs": [],
   "source": [
    "# Q-5: Draw a line plot by using the below informations\n",
    "\n",
    "#     bloodpressure vs children\n",
    "#     Blood-pressure values should be between 90 and 100. The upper and lower limit are included.\n",
    "#     Show the details of \"smoker\".\n",
    "insurance"
   ]
  },
  {
   "cell_type": "code",
   "execution_count": null,
   "id": "1ed0900c",
   "metadata": {
    "scrolled": false
   },
   "outputs": [],
   "source": [
    "insurance1=insurance.query('bloodpressure>=90 & bloodpressure <=100')\n",
    "insurance1\n",
    "sns.relplot(kind='line',data=insurance1,y='children',x='bloodpressure',hue='smoker',err_style=None)"
   ]
  },
  {
   "cell_type": "code",
   "execution_count": null,
   "id": "5b86bfbc",
   "metadata": {
    "scrolled": false
   },
   "outputs": [],
   "source": [
    "# Draw a histogram using displot\n",
    "\n",
    "#     based on \"age\" column.\n",
    "#     Show details of \"smoker\" (hue).\n",
    "#     Create 2 separate charts for the above 2 conditions based on \"gender\" side-by-side.\n",
    "insurance\n",
    "sns.displot(data=insurance,kind='hist',x='age',hue='smoker',col='smoker',row='gender',)\n"
   ]
  },
  {
   "cell_type": "code",
   "execution_count": null,
   "id": "fa7db3c0",
   "metadata": {},
   "outputs": [],
   "source": [
    "# Q-7: Draw a kde plot between \"age\" and \"bloodpressure\"\n",
    "sns.displot(data=insurance,kind='kde',y='age',x='bloodpressure')"
   ]
  },
  {
   "cell_type": "code",
   "execution_count": null,
   "id": "a0cecf20",
   "metadata": {},
   "outputs": [],
   "source": [
    "# Q-8: Draw a clustermap between between \"age\", \"bmi\" and \"bloodpressure\".\n",
    "insurance"
   ]
  },
  {
   "cell_type": "markdown",
   "id": "df59d7e4",
   "metadata": {},
   "source": [
    "# Categorical plot\n",
    "### ->Plots used for categorical data"
   ]
  },
  {
   "cell_type": "markdown",
   "id": "fe001324",
   "metadata": {},
   "source": [
    "# a) Categorical Scatter plot (one categorical data and one numerical data i.e bivariate analysis)\n",
    "# i)stripplot()\n",
    "# ii) Swarmplot()\n",
    "\n",
    "# b)Categorical distribution plots\n",
    "# i)boxplot()\n",
    "# ii)violinplot()\n",
    "\n",
    "\n",
    "# b)Categorical Estimate plots(for central tendency)\n",
    "# i)barplot()\n",
    "# ii)pointplot()\n",
    "# iii)countplot()"
   ]
  },
  {
   "cell_type": "code",
   "execution_count": null,
   "id": "6a6458a0",
   "metadata": {},
   "outputs": [],
   "source": [
    "tips"
   ]
  },
  {
   "cell_type": "markdown",
   "id": "f7cfb2a5",
   "metadata": {},
   "source": [
    "# i)stripplot()\n",
    "### Similar to scatter plot but scatter plot is used for numerical columns but stripplot is used as scatter plot between a categorical data and numerical data"
   ]
  },
  {
   "cell_type": "code",
   "execution_count": null,
   "id": "17154780",
   "metadata": {},
   "outputs": [],
   "source": []
  },
  {
   "cell_type": "code",
   "execution_count": null,
   "id": "26c4541b",
   "metadata": {
    "scrolled": false
   },
   "outputs": [],
   "source": [
    "sns.catplot(data=tips,x='day',y='total_bill',kind='strip',hue='day',jitter=True)\n",
    "# by default jitter is true\n",
    "# we can also alter the value of jitter as (jitter=0.2)\n"
   ]
  },
  {
   "cell_type": "markdown",
   "id": "e063361f",
   "metadata": {},
   "source": [
    "\n",
    "# ii)swarmplot()\n",
    "### similar to stripplot() but swarmplot() internally runs an algorithm to also show the distribution of data\n",
    "### It is suitable for small size data but stripplot() is suitable for all size of data"
   ]
  },
  {
   "cell_type": "code",
   "execution_count": null,
   "id": "2b1f58d6",
   "metadata": {},
   "outputs": [],
   "source": []
  },
  {
   "cell_type": "code",
   "execution_count": null,
   "id": "473743a7",
   "metadata": {},
   "outputs": [],
   "source": [
    "sns.catplot(data=tips,x='day',y='total_bill',kind='swarm',hue='day')\n"
   ]
  },
  {
   "cell_type": "code",
   "execution_count": null,
   "id": "74cc6fb4",
   "metadata": {},
   "outputs": [],
   "source": [
    "# b)Categorical distribution plots (are for univariate analysis)\n",
    "# i)boxplot()\n",
    "# ii)violinplot()\n",
    "tips"
   ]
  },
  {
   "cell_type": "markdown",
   "id": "9cd87744",
   "metadata": {},
   "source": [
    "# i)Boxplot()"
   ]
  },
  {
   "cell_type": "code",
   "execution_count": null,
   "id": "8fe28879",
   "metadata": {},
   "outputs": [],
   "source": [
    "sns.catplot(kind='box',data=tips,x='total_bill',y='sex',hue='smoker')"
   ]
  },
  {
   "cell_type": "code",
   "execution_count": null,
   "id": "b585f6f4",
   "metadata": {},
   "outputs": [],
   "source": [
    "tips.query('(total_bill>33) & (sex==\"Female\") &(smoker==\"No\")').count()"
   ]
  },
  {
   "cell_type": "code",
   "execution_count": null,
   "id": "6fa3ed30",
   "metadata": {},
   "outputs": [],
   "source": [
    "sns.boxplot(data=tips,x='total_bill')"
   ]
  },
  {
   "cell_type": "markdown",
   "id": "39981bc3",
   "metadata": {},
   "source": [
    "# ii) violinplot (Boxplot + KDEplot)"
   ]
  },
  {
   "cell_type": "code",
   "execution_count": null,
   "id": "3e13b62f",
   "metadata": {},
   "outputs": [],
   "source": [
    "sns.catplot(data=tips,kind='violin',x='total_bill',y='day',hue='sex')"
   ]
  },
  {
   "cell_type": "code",
   "execution_count": null,
   "id": "ab47eec5",
   "metadata": {},
   "outputs": [],
   "source": [
    "sns.catplot(data=tips,kind='violin',x='total_bill',y='day',hue='sex',split=True)"
   ]
  },
  {
   "cell_type": "markdown",
   "id": "c7ae4cb2",
   "metadata": {},
   "source": [
    "# i) Barplot()"
   ]
  },
  {
   "cell_type": "code",
   "execution_count": null,
   "id": "4f6e9848",
   "metadata": {},
   "outputs": [],
   "source": [
    "sns.barplot(data=tips,x='sex',y='total_bill',estimator='std',errorbar=None)"
   ]
  },
  {
   "cell_type": "code",
   "execution_count": null,
   "id": "5b707135",
   "metadata": {},
   "outputs": [],
   "source": [
    "sns.catplot(data=tips,kind='bar',x='sex',y='total_bill',errorbar=None,estimator='min',hue='smoker')"
   ]
  },
  {
   "cell_type": "markdown",
   "id": "7b7585a0",
   "metadata": {},
   "source": [
    "# ii)Point plots\n",
    "### similar to barplot . Point plot compares the difference between the bars of barplot"
   ]
  },
  {
   "cell_type": "code",
   "execution_count": null,
   "id": "b457da9d",
   "metadata": {},
   "outputs": [],
   "source": [
    "sns.catplot(data=tips,kind='point',x='sex',y='total_bill',hue='smoker')"
   ]
  },
  {
   "cell_type": "code",
   "execution_count": null,
   "id": "af25fcc4",
   "metadata": {},
   "outputs": [],
   "source": [
    "sns.catplot(data=tips,kind='point',x='sex',y='total_bill',hue='smoker',errorbar=None)"
   ]
  },
  {
   "cell_type": "markdown",
   "id": "62fd50b1",
   "metadata": {},
   "source": [
    "# iii) countplot()\n",
    "\n",
    "### shows the number of observations in each categories rather than computing a statistics for a second variable"
   ]
  },
  {
   "cell_type": "code",
   "execution_count": null,
   "id": "087011ea",
   "metadata": {
    "scrolled": false
   },
   "outputs": [],
   "source": [
    "sns.catplot(data=tips,kind='count',x='sex')"
   ]
  },
  {
   "cell_type": "code",
   "execution_count": null,
   "id": "8c8dd8cf",
   "metadata": {},
   "outputs": [],
   "source": [
    "tips[tips['sex']=='Female'].value_counts().sum()"
   ]
  },
  {
   "cell_type": "code",
   "execution_count": null,
   "id": "f8236b7f",
   "metadata": {},
   "outputs": [],
   "source": [
    "tips.info()"
   ]
  },
  {
   "cell_type": "code",
   "execution_count": null,
   "id": "28282afb",
   "metadata": {},
   "outputs": [],
   "source": [
    "#Faceting using catplot"
   ]
  },
  {
   "cell_type": "code",
   "execution_count": null,
   "id": "ba2e69e4",
   "metadata": {},
   "outputs": [],
   "source": [
    "sns.catplot(data=tips,kind='box',x='total_bill',y='sex',col='smoker',row='time')"
   ]
  },
  {
   "cell_type": "markdown",
   "id": "322c0461",
   "metadata": {},
   "source": [
    "# 4. Regression Plots: These plots are used to visualize linear relationships between variables. Examples include\n",
    "## i)regplot (axes level)            ii)lmplot(figure level)\n",
    "### In simplest invocation,both functions draw a scattterplot of 2 variables x and y and then fit the regression model y ~ x and plot the resukting regression line and a 95 % confidence interval for that regression"
   ]
  },
  {
   "cell_type": "code",
   "execution_count": null,
   "id": "7b5d258b",
   "metadata": {},
   "outputs": [],
   "source": [
    "tips"
   ]
  },
  {
   "cell_type": "code",
   "execution_count": null,
   "id": "699c1a1a",
   "metadata": {},
   "outputs": [],
   "source": [
    "# hue paramenter is not available in regplot but is availabe in lmplot\n",
    "sns.regplot(data=tips,x='total_bill',y='tip',ci=None)"
   ]
  },
  {
   "cell_type": "code",
   "execution_count": null,
   "id": "e364a753",
   "metadata": {},
   "outputs": [],
   "source": [
    "sns.lmplot(data=tips,x='total_bill',y='tip',ci=None,hue='sex')"
   ]
  },
  {
   "cell_type": "code",
   "execution_count": null,
   "id": "8d30611c",
   "metadata": {},
   "outputs": [],
   "source": [
    "sns.residplot(data=tips,x='total_bill',y='tip')"
   ]
  },
  {
   "cell_type": "markdown",
   "id": "c73b3962",
   "metadata": {
    "scrolled": false
   },
   "source": [
    "# Multi plot grid\n",
    "\n",
    "(grid means it returns a object with multiple grid/cell)"
   ]
  },
  {
   "cell_type": "markdown",
   "id": "2b961731",
   "metadata": {},
   "source": [
    "# 1) Facet grids (facetgrid())\n",
    "\n",
    "-> allowing you to display multiple plots (usually of the same type) based on the subsets of your data ..We can do same thing using facet columns (i.e col and row) but facet grid is more flexible\n",
    "\n",
    "# 2) Pair grids(pairplot(),pairgrid())\n",
    "->Ploting Pairwise Relationship\n",
    "\n",
    "# 3)Joint grids (jointplot(),jointgrid())"
   ]
  },
  {
   "cell_type": "markdown",
   "id": "d96eef18",
   "metadata": {},
   "source": [
    "# 1) Facet grid"
   ]
  },
  {
   "cell_type": "code",
   "execution_count": null,
   "id": "61cf5679",
   "metadata": {},
   "outputs": [],
   "source": [
    "# using facet col and row\n",
    "sns.catplot(data=tips,x='sex',y='total_bill',kind='violin',col='day',col_wrap=2)"
   ]
  },
  {
   "cell_type": "code",
   "execution_count": null,
   "id": "b4469e79",
   "metadata": {},
   "outputs": [],
   "source": [
    "#using facet grid\n",
    "g=sns.FacetGrid(data=tips,col='day',row='time',hue='sex')\n",
    "g.map(sns.violinplot,'sex','total_bill')"
   ]
  },
  {
   "cell_type": "code",
   "execution_count": null,
   "id": "75fb1910",
   "metadata": {},
   "outputs": [],
   "source": [
    "#Another Example using Facet grid\n",
    "g=sns.FacetGrid(data=tips,col='sex',row='time',hue='sex')\n",
    "g.map(sns.scatterplot,\"total_bill\",\"tip\")"
   ]
  },
  {
   "cell_type": "markdown",
   "id": "a7713cac",
   "metadata": {},
   "source": [
    "# 2) Pair grid\n",
    "->first of all it automatically detects all the numerical columns in the data set and make all the possible pair(group of 2)       between these numerical column and draws scatter plot between them and incase of same column(same column in both x and y) it     draws a histogram between them\n"
   ]
  },
  {
   "cell_type": "markdown",
   "id": "08b6594f",
   "metadata": {},
   "source": [
    "# a)Pair plot"
   ]
  },
  {
   "cell_type": "code",
   "execution_count": null,
   "id": "513c6cd4",
   "metadata": {},
   "outputs": [],
   "source": []
  },
  {
   "cell_type": "code",
   "execution_count": null,
   "id": "05497793",
   "metadata": {},
   "outputs": [],
   "source": [
    "iris"
   ]
  },
  {
   "cell_type": "code",
   "execution_count": null,
   "id": "34dd2145",
   "metadata": {},
   "outputs": [],
   "source": [
    "sns.pairplot(iris)\n",
    "# draws a scatter plot for different columns and histogram for same columns"
   ]
  },
  {
   "cell_type": "code",
   "execution_count": null,
   "id": "b6a509e9",
   "metadata": {},
   "outputs": [],
   "source": [
    "sns.pairplot(iris,hue='species')"
   ]
  },
  {
   "cell_type": "markdown",
   "id": "d9ebc690",
   "metadata": {},
   "source": [
    "# a)Pair grid"
   ]
  },
  {
   "cell_type": "code",
   "execution_count": null,
   "id": "6e177388",
   "metadata": {},
   "outputs": [],
   "source": [
    "g=sns.PairGrid(iris)\n",
    "g.map_offdiag(sns.scatterplot)  # Draw a scatter plot for all the non diagonal grid\n",
    "g.map_diag(sns.histplot)      # Draw a histogram plot for all the diagonal grid"
   ]
  },
  {
   "cell_type": "code",
   "execution_count": null,
   "id": "d23ff10e",
   "metadata": {
    "scrolled": false
   },
   "outputs": [],
   "source": [
    "g=sns.PairGrid(iris)\n",
    "g.map_offdiag(sns.scatterplot)  # Draw a scatter plot for all the non diagonal grid\n",
    "g.map_diag(sns.boxplot)      # Draw a box plot for all the diagonal grid"
   ]
  },
  {
   "cell_type": "code",
   "execution_count": null,
   "id": "1dceff36",
   "metadata": {},
   "outputs": [],
   "source": [
    "#vars parameter-> to select only desired numerical column for creating pairs\n",
    "g=sns.PairGrid(data=iris,vars=['sepal_length','petal_length'])\n",
    "g.map_offdiag(sns.scatterplot)\n",
    "g.map_diag(sns.histplot)\n",
    "\n",
    "#g.map_upper(sns.kdeplot) -> Draw a kde plot for upper diagnoal grid\n",
    "#g.map_lower(sns.lineplot) -> Draw a line plot for lower diagnoal grid"
   ]
  },
  {
   "cell_type": "code",
   "execution_count": null,
   "id": "f58360cd",
   "metadata": {},
   "outputs": [],
   "source": [
    "#Key findings and why to use pairgrid plot instead of pairplot\n",
    "# ->In pairgrid plot we can change the plot that we want to draw for diagonal and non diagonal grid which provides more flexibility \n",
    "#      but in parplot the default scatter plot and histplot is drawn"
   ]
  },
  {
   "cell_type": "markdown",
   "id": "1099f3cd",
   "metadata": {},
   "source": [
    "# 3) joint plot"
   ]
  },
  {
   "cell_type": "code",
   "execution_count": null,
   "id": "2680fc28",
   "metadata": {},
   "outputs": [],
   "source": [
    "sns.jointplot(data=tips,x='total_bill',y='tip')"
   ]
  }
 ],
 "metadata": {
  "kernelspec": {
   "display_name": "Python 3 (ipykernel)",
   "language": "python",
   "name": "python3"
  },
  "language_info": {
   "codemirror_mode": {
    "name": "ipython",
    "version": 3
   },
   "file_extension": ".py",
   "mimetype": "text/x-python",
   "name": "python",
   "nbconvert_exporter": "python",
   "pygments_lexer": "ipython3",
   "version": "3.11.5"
  }
 },
 "nbformat": 4,
 "nbformat_minor": 5
}
