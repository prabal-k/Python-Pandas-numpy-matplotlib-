{
 "cells": [
  {
   "cell_type": "code",
   "execution_count": 1,
   "id": "74a70c98",
   "metadata": {},
   "outputs": [],
   "source": [
    "import pandas as pd\n",
    "import numpy as np\n",
    "import matplotlib.pyplot as plt"
   ]
  },
  {
   "cell_type": "code",
   "execution_count": 13,
   "id": "c0e11143",
   "metadata": {},
   "outputs": [],
   "source": [
    "df=pd.read_csv(r\"C:\\Users\\Prabal Kuinkel\\Desktop\\Data Analyst\\PYTHON JUPYTERNOOTBOOK\\Data sets and notes\\Data sets\\iris.csv\")"
   ]
  },
  {
   "cell_type": "code",
   "execution_count": 16,
   "id": "76c0d348",
   "metadata": {},
   "outputs": [
    {
     "data": {
      "text/plain": [
       "array([10, 20, 30, 40])"
      ]
     },
     "execution_count": 16,
     "metadata": {},
     "output_type": "execute_result"
    }
   ],
   "source": [
    "#single dimensional Numpy Array\n",
    "n1=np.array([10,20,30,40])\n",
    "n1"
   ]
  },
  {
   "cell_type": "code",
   "execution_count": 17,
   "id": "493e0c6d",
   "metadata": {},
   "outputs": [
    {
     "data": {
      "text/plain": [
       "numpy.ndarray"
      ]
     },
     "execution_count": 17,
     "metadata": {},
     "output_type": "execute_result"
    }
   ],
   "source": [
    "type(n1)"
   ]
  },
  {
   "cell_type": "code",
   "execution_count": 20,
   "id": "c9e4a500",
   "metadata": {
    "scrolled": true
   },
   "outputs": [
    {
     "data": {
      "text/plain": [
       "array([[10, 20, 30,  5,  7],\n",
       "       [10, 80, 90,  6,  2],\n",
       "       [ 8,  6,  4, 54,  6],\n",
       "       [ 9,  1,  2,  3,  6]])"
      ]
     },
     "execution_count": 20,
     "metadata": {},
     "output_type": "execute_result"
    }
   ],
   "source": [
    "#Multidimensional Numpy array\n",
    "n2=np.array([[10,20,30,5,7],[10,80,90,6,2],[8,6,4,54,6],[9,1,2,3,6]])\n",
    "n2"
   ]
  },
  {
   "cell_type": "code",
   "execution_count": 22,
   "id": "abd26b3f",
   "metadata": {},
   "outputs": [
    {
     "data": {
      "text/plain": [
       "numpy.ndarray"
      ]
     },
     "execution_count": 22,
     "metadata": {},
     "output_type": "execute_result"
    }
   ],
   "source": [
    "type(n2)"
   ]
  },
  {
   "cell_type": "code",
   "execution_count": 26,
   "id": "17064c7c",
   "metadata": {},
   "outputs": [
    {
     "data": {
      "text/plain": [
       "array([[0., 0., 0.],\n",
       "       [0., 0., 0.]])"
      ]
     },
     "execution_count": 26,
     "metadata": {},
     "output_type": "execute_result"
    }
   ],
   "source": [
    "n3=np.zeros((2,3))\n",
    "n3"
   ]
  },
  {
   "cell_type": "markdown",
   "id": "16d5dff8",
   "metadata": {},
   "source": [
    "##Initilaization a array of matrix "
   ]
  },
  {
   "cell_type": "code",
   "execution_count": 28,
   "id": "192585b3",
   "metadata": {},
   "outputs": [
    {
     "data": {
      "text/plain": [
       "array([[9, 9, 9],\n",
       "       [9, 9, 9],\n",
       "       [9, 9, 9]])"
      ]
     },
     "execution_count": 28,
     "metadata": {},
     "output_type": "execute_result"
    }
   ],
   "source": [
    "n4=np.full((3,3),9)\n",
    "n4"
   ]
  },
  {
   "cell_type": "code",
   "execution_count": 33,
   "id": "cb7214cf",
   "metadata": {},
   "outputs": [
    {
     "data": {
      "text/plain": [
       "array([10, 11, 12, 13, 14, 15, 16, 17, 18, 19])"
      ]
     },
     "execution_count": 33,
     "metadata": {},
     "output_type": "execute_result"
    }
   ],
   "source": [
    "#initilaization of numpy array within the range\n",
    "n5=np.arange(10,20)\n",
    "n5"
   ]
  },
  {
   "cell_type": "code",
   "execution_count": 34,
   "id": "3b0226af",
   "metadata": {},
   "outputs": [
    {
     "data": {
      "text/plain": [
       "array([10, 12, 14, 16, 18])"
      ]
     },
     "execution_count": 34,
     "metadata": {},
     "output_type": "execute_result"
    }
   ],
   "source": [
    "#initialize of array from range 10 to 19 with interval of 2\n",
    "n5=np.arange(10,20,2) \n",
    "n5"
   ]
  },
  {
   "cell_type": "code",
   "execution_count": 41,
   "id": "20feb29f",
   "metadata": {},
   "outputs": [
    {
     "data": {
      "text/plain": [
       "array([173, 627, 913, 805, 343, 949, 621])"
      ]
     },
     "execution_count": 41,
     "metadata": {},
     "output_type": "execute_result"
    }
   ],
   "source": [
    "#initialize numpy with random numbers(6 ota number )\n",
    "n7=np.random.randint(100,1000,7)\n",
    "n7"
   ]
  },
  {
   "cell_type": "code",
   "execution_count": 47,
   "id": "9c1440c8",
   "metadata": {},
   "outputs": [
    {
     "data": {
      "text/plain": [
       "array([[10,  2,  7],\n",
       "       [ 4,  5,  6],\n",
       "       [56, 23,  4],\n",
       "       [78,  3,  2]])"
      ]
     },
     "execution_count": 47,
     "metadata": {},
     "output_type": "execute_result"
    }
   ],
   "source": [
    "#transpoe of matrix \n",
    "n8=np.array([[10,2,7],[4,5,6],[56,23,4],[78,3,2]])\n",
    "n8"
   ]
  },
  {
   "cell_type": "code",
   "execution_count": 48,
   "id": "c9dbdd51",
   "metadata": {},
   "outputs": [
    {
     "data": {
      "text/plain": [
       "(4, 3)"
      ]
     },
     "execution_count": 48,
     "metadata": {},
     "output_type": "execute_result"
    }
   ],
   "source": [
    "n8.shape"
   ]
  },
  {
   "cell_type": "code",
   "execution_count": 50,
   "id": "98d1b1e2",
   "metadata": {},
   "outputs": [
    {
     "data": {
      "text/plain": [
       "array([[10,  2,  7,  4],\n",
       "       [ 5,  6, 56, 23],\n",
       "       [ 4, 78,  3,  2]])"
      ]
     },
     "execution_count": 50,
     "metadata": {},
     "output_type": "execute_result"
    }
   ],
   "source": [
    "n8.shape=(3,4)\n",
    "n8"
   ]
  }
 ],
 "metadata": {
  "kernelspec": {
   "display_name": "Python 3 (ipykernel)",
   "language": "python",
   "name": "python3"
  },
  "language_info": {
   "codemirror_mode": {
    "name": "ipython",
    "version": 3
   },
   "file_extension": ".py",
   "mimetype": "text/x-python",
   "name": "python",
   "nbconvert_exporter": "python",
   "pygments_lexer": "ipython3",
   "version": "3.11.5"
  }
 },
 "nbformat": 4,
 "nbformat_minor": 5
}
