{
 "cells": [
  {
   "cell_type": "code",
   "execution_count": 1,
   "id": "9dff8c98",
   "metadata": {},
   "outputs": [
    {
     "name": "stdout",
     "output_type": "stream",
     "text": [
      "Greedy Best-First Search Path: ['S', 'A', 'X', 'E']\n",
      "Path Cost: 7\n"
     ]
    }
   ],
   "source": [
    "def greedy_best_first_search(graph, start, goal, heuristic_func):\n",
    "    visited = set()\n",
    "    path = []\n",
    "    current_node = start\n",
    "    path_cost = 0  # Initialize path cost\n",
    "\n",
    "    while current_node != goal:\n",
    "        path.append(current_node)\n",
    "        visited.add(current_node)\n",
    "\n",
    "        neighbors = graph[current_node]\n",
    "        next_node = None\n",
    "        best_score = float('inf')\n",
    "\n",
    "        for neighbor, _ in neighbors.items():\n",
    "            if neighbor not in visited:\n",
    "                score = heuristic_func(neighbor)\n",
    "                if score < best_score:\n",
    "                    next_node = neighbor\n",
    "                    best_score = score\n",
    "\n",
    "        if next_node is None:\n",
    "            print(\"No path found to the goal node.\")\n",
    "            return None, None  # Return None for both path and path cost\n",
    "        else:\n",
    "            path_cost += graph[current_node][next_node]  # Add the cost of the edge to path cost\n",
    "            current_node = next_node\n",
    "\n",
    "    path.append(goal)  # Add the goal node to the path\n",
    "    return path, path_cost\n",
    "\n",
    "# Example heuristic function (returning some arbitrary values)\n",
    "def heuristic_func(node):\n",
    "    heuristic_values = {'A': 5, 'B': 6, 'C': 4, 'D': 15, 'X': 5, 'Y': 8, 'S': 0, 'E': 0}\n",
    "    return heuristic_values.get(node, float('inf'))  # Return infinity for unlisted nodes\n",
    "\n",
    "# Example graph represented as adjacency list\n",
    "graph = {\n",
    "    'S': {'A': 1, 'B': 2},\n",
    "    'A': {'Y': 7, 'X': 4},\n",
    "    'B': {'C': 7, 'D': 1},\n",
    "    'D': {'E': 5},\n",
    "    'C': {'E': 5},\n",
    "    'X': {'E': 2},\n",
    "    'Y': {'E': 3}\n",
    "}\n",
    "\n",
    "start_node = 'S'\n",
    "goal_node = 'E'\n",
    "\n",
    "path, path_cost = greedy_best_first_search(graph, start_node, goal_node, heuristic_func)\n",
    "if path is not None:\n",
    "    print(\"Greedy Best-First Search Path:\", path)\n",
    "    print(\"Path Cost:\", path_cost)\n"
   ]
  },
  {
   "cell_type": "code",
   "execution_count": null,
   "id": "2bf69c38",
   "metadata": {},
   "outputs": [],
   "source": []
  }
 ],
 "metadata": {
  "kernelspec": {
   "display_name": "Python 3 (ipykernel)",
   "language": "python",
   "name": "python3"
  },
  "language_info": {
   "codemirror_mode": {
    "name": "ipython",
    "version": 3
   },
   "file_extension": ".py",
   "mimetype": "text/x-python",
   "name": "python",
   "nbconvert_exporter": "python",
   "pygments_lexer": "ipython3",
   "version": "3.11.5"
  }
 },
 "nbformat": 4,
 "nbformat_minor": 5
}
